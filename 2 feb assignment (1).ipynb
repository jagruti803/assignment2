{
 "cells": [
  {
   "cell_type": "code",
   "execution_count": 3,
   "id": "2ccf3c68-353d-46c7-961b-768fb35068d6",
   "metadata": {},
   "outputs": [],
   "source": [
    "l1=['jagruti','jitendra','Asawale']"
   ]
  },
  {
   "cell_type": "code",
   "execution_count": 4,
   "id": "e1882b1f-7f7c-4391-81ce-ecf00f1ac2cc",
   "metadata": {},
   "outputs": [
    {
     "name": "stdout",
     "output_type": "stream",
     "text": [
      "jagruti\n",
      "jitendra\n",
      "Asawale\n"
     ]
    },
    {
     "data": {
      "text/plain": [
       "['jagruti', 'jitendra', 'Asawale']"
      ]
     },
     "execution_count": 4,
     "metadata": {},
     "output_type": "execute_result"
    }
   ],
   "source": [
    "l2=[]\n",
    "for i in l1:\n",
    "    print(i)\n",
    "    l2.append(i)\n",
    "l2"
   ]
  },
  {
   "cell_type": "code",
   "execution_count": 5,
   "id": "e59e6125-de74-4ced-9445-2227c6eb787a",
   "metadata": {},
   "outputs": [
    {
     "name": "stdin",
     "output_type": "stream",
     "text": [
      "enter a string jagruti\n"
     ]
    },
    {
     "data": {
      "text/plain": [
       "'iturgaj'"
      ]
     },
     "execution_count": 5,
     "metadata": {},
     "output_type": "execute_result"
    }
   ],
   "source": [
    "word=input(\"enter a string\")\n",
    "reverse=\"\"\n",
    "lenth=len(word)\n",
    "while lenth>0:\n",
    "    reverse=reverse+word[lenth-1]\n",
    "    lenth=lenth-1\n",
    "reverse"
   ]
  },
  {
   "cell_type": "code",
   "execution_count": 6,
   "id": "b99b8ad1-4c4f-4b10-ad32-812683dd1ecd",
   "metadata": {},
   "outputs": [
    {
     "data": {
      "text/plain": [
       "55"
      ]
     },
     "execution_count": 6,
     "metadata": {},
     "output_type": "execute_result"
    }
   ],
   "source": [
    "#sum of no\n",
    "Sum=0\n",
    "for i in range(1,11):\n",
    "    Sum=Sum+i\n",
    "Sum"
   ]
  },
  {
   "cell_type": "code",
   "execution_count": 8,
   "id": "2097a71b-e5eb-43a4-9495-f82ef2d2b720",
   "metadata": {},
   "outputs": [
    {
     "data": {
      "text/plain": [
       "55"
      ]
     },
     "execution_count": 8,
     "metadata": {},
     "output_type": "execute_result"
    }
   ],
   "source": [
    "#sum of no using while loop\n",
    "result=0\n",
    "i=0\n",
    "while i<11:\n",
    "    result=result+i\n",
    "    i=i+1\n",
    "result"
   ]
  },
  {
   "cell_type": "code",
   "execution_count": 15,
   "id": "7593dc3f-a8dd-41da-b57c-4bc9843e495a",
   "metadata": {},
   "outputs": [
    {
     "data": {
      "text/plain": [
       "3628800"
      ]
     },
     "execution_count": 15,
     "metadata": {},
     "output_type": "execute_result"
    }
   ],
   "source": [
    "# product using while loop\n",
    "product=1\n",
    "i=1\n",
    "while i<11:\n",
    "    product=product*i\n",
    "    i=i+1\n",
    "product"
   ]
  },
  {
   "cell_type": "code",
   "execution_count": 17,
   "id": "6d01a4de-1c8f-4b0b-a6f8-a705abe76bbd",
   "metadata": {},
   "outputs": [
    {
     "data": {
      "text/plain": [
       "3628800"
      ]
     },
     "execution_count": 17,
     "metadata": {},
     "output_type": "execute_result"
    }
   ],
   "source": [
    "# product using for loop\n",
    "product=1\n",
    "for i in range(1,11):\n",
    "    product=product*i\n",
    "product"
   ]
  },
  {
   "cell_type": "code",
   "execution_count": 18,
   "id": "831f7939-70c8-46f2-8f17-9efb541b99f0",
   "metadata": {},
   "outputs": [
    {
     "data": {
      "text/plain": [
       "'The per-unit charges in rupees are as follows: For the first 100 units, the user will be charged Rs. 4.5 per\\nunit, for the next 100 units, the user will be charged Rs. 6 per unit, and for the next 100 units, the user will\\nbe charged Rs. 10 per unit, After 300 units and above the user will be charged Rs. 20 per unit.\\nYou are required to take the units of electricity consumed in a month from the user as input.'"
      ]
     },
     "execution_count": 18,
     "metadata": {},
     "output_type": "execute_result"
    }
   ],
   "source": [
    "\"\"\"The per-unit charges in rupees are as follows: For the first 100 units, the user will be charged Rs. 4.5 per\n",
    "unit, for the next 100 units, the user will be charged Rs. 6 per unit, and for the next 100 units, the user will\n",
    "be charged Rs. 10 per unit, After 300 units and above the user will be charged Rs. 20 per unit.\n",
    "You are required to take the units of electricity consumed in a month from the user as input.\"\"\""
   ]
  },
  {
   "cell_type": "code",
   "execution_count": 2,
   "id": "146756e4-cd43-405d-a329-c5f232cdbdf7",
   "metadata": {},
   "outputs": [
    {
     "name": "stdin",
     "output_type": "stream",
     "text": [
      "enter the unit 310\n"
     ]
    },
    {
     "data": {
      "text/plain": [
       "2250.0"
      ]
     },
     "execution_count": 2,
     "metadata": {},
     "output_type": "execute_result"
    }
   ],
   "source": [
    "units=int(input(\"enter the unit\"))\n",
    "bill=0\n",
    "\n",
    "if units<=100 :\n",
    "    bill=units*4.5\n",
    "elif units>100 and units<=200:\n",
    "    bill=100*4.5+(units-100)*6\n",
    "elif units>200 and units<=300:\n",
    "    \n",
    "    bill=100*4.5+(200-100)*6+(units-200)*10\n",
    "else:\n",
    "    \n",
    "    bill=100*4.5+(200-100)*6+(300-200)*10+(units-300)*20\n",
    "bill\n",
    "    \n",
    "     "
   ]
  },
  {
   "cell_type": "code",
   "execution_count": 1,
   "id": "cb990c68-2cfd-4412-ab44-a0062535683f",
   "metadata": {},
   "outputs": [
    {
     "data": {
      "text/plain": [
       "'Create a list of numbers from 1 to 100. Use for loop and while loop to calculate the cube of each\\nnumber and if the cube of that number is divisible by 4 or 5 then append that number in a list and print\\nthat list'"
      ]
     },
     "execution_count": 1,
     "metadata": {},
     "output_type": "execute_result"
    }
   ],
   "source": [
    "\"\"\"Create a list of numbers from 1 to 100. Use for loop and while loop to calculate the cube of each\n",
    "number and if the cube of that number is divisible by 4 or 5 then append that number in a list and print\n",
    "that list\"\"\"\n"
   ]
  },
  {
   "cell_type": "code",
   "execution_count": 3,
   "id": "bf5fa32f-00cd-4be7-9bff-cb51a3f3503f",
   "metadata": {},
   "outputs": [
    {
     "data": {
      "text/plain": [
       "[8,\n",
       " 64,\n",
       " 125,\n",
       " 216,\n",
       " 512,\n",
       " 1000,\n",
       " 1728,\n",
       " 2744,\n",
       " 3375,\n",
       " 4096,\n",
       " 5832,\n",
       " 8000,\n",
       " 10648,\n",
       " 13824,\n",
       " 15625,\n",
       " 17576,\n",
       " 21952,\n",
       " 27000,\n",
       " 32768,\n",
       " 39304,\n",
       " 42875,\n",
       " 46656,\n",
       " 54872,\n",
       " 64000,\n",
       " 74088,\n",
       " 85184,\n",
       " 91125,\n",
       " 97336,\n",
       " 110592,\n",
       " 125000,\n",
       " 140608,\n",
       " 157464,\n",
       " 166375,\n",
       " 175616,\n",
       " 195112,\n",
       " 216000,\n",
       " 238328,\n",
       " 262144,\n",
       " 274625,\n",
       " 287496,\n",
       " 314432,\n",
       " 343000,\n",
       " 373248,\n",
       " 405224,\n",
       " 421875,\n",
       " 438976,\n",
       " 474552,\n",
       " 512000,\n",
       " 551368,\n",
       " 592704,\n",
       " 614125,\n",
       " 636056,\n",
       " 681472,\n",
       " 729000,\n",
       " 778688,\n",
       " 830584,\n",
       " 857375,\n",
       " 884736,\n",
       " 941192,\n",
       " 1000000]"
      ]
     },
     "execution_count": 3,
     "metadata": {},
     "output_type": "execute_result"
    }
   ],
   "source": [
    "l1=[]\n",
    "for i in range(1,101):\n",
    "    cube=i*i*i\n",
    "    if cube%4==0 or cube%5==0:\n",
    "        l1.append(cube)\n",
    "l1\n",
    "    \n",
    "    "
   ]
  },
  {
   "cell_type": "code",
   "execution_count": 2,
   "id": "014c9169-1322-4526-9425-e20782473162",
   "metadata": {},
   "outputs": [
    {
     "data": {
      "text/plain": [
       "[8,\n",
       " 64,\n",
       " 125,\n",
       " 216,\n",
       " 512,\n",
       " 1000,\n",
       " 1728,\n",
       " 2744,\n",
       " 3375,\n",
       " 4096,\n",
       " 5832,\n",
       " 8000,\n",
       " 10648,\n",
       " 13824,\n",
       " 15625,\n",
       " 17576,\n",
       " 21952,\n",
       " 27000,\n",
       " 32768,\n",
       " 39304,\n",
       " 42875,\n",
       " 46656,\n",
       " 54872,\n",
       " 64000,\n",
       " 74088,\n",
       " 85184,\n",
       " 91125,\n",
       " 97336,\n",
       " 110592,\n",
       " 125000,\n",
       " 140608,\n",
       " 157464,\n",
       " 166375,\n",
       " 175616,\n",
       " 195112,\n",
       " 216000,\n",
       " 238328,\n",
       " 262144,\n",
       " 274625,\n",
       " 287496,\n",
       " 314432,\n",
       " 343000,\n",
       " 373248,\n",
       " 405224,\n",
       " 421875,\n",
       " 438976,\n",
       " 474552,\n",
       " 512000,\n",
       " 551368,\n",
       " 592704,\n",
       " 614125,\n",
       " 636056,\n",
       " 681472,\n",
       " 729000,\n",
       " 778688,\n",
       " 830584,\n",
       " 857375,\n",
       " 884736,\n",
       " 941192,\n",
       " 1000000]"
      ]
     },
     "execution_count": 2,
     "metadata": {},
     "output_type": "execute_result"
    }
   ],
   "source": [
    "l2=[]\n",
    "i=1\n",
    "while i<=100:\n",
    "    cube=i*i*i\n",
    "    i=i+1\n",
    "    if cube%4==0 or cube%5==0:\n",
    "        l2.append(cube)\n",
    "l2"
   ]
  },
  {
   "cell_type": "code",
   "execution_count": 3,
   "id": "7b24f064-81b4-4742-a051-6161dbad6b89",
   "metadata": {},
   "outputs": [
    {
     "data": {
      "text/plain": [
       "'Write a program to filter count vowels in the below-given string.\\nstring = \"I want to become a data scientist'"
      ]
     },
     "execution_count": 3,
     "metadata": {},
     "output_type": "execute_result"
    }
   ],
   "source": [
    "\"\"\"Write a program to filter count vowels in the below-given string.\n",
    "string = \"I want to become a data scientist\"\"\""
   ]
  },
  {
   "cell_type": "code",
   "execution_count": 4,
   "id": "bdc06f68-440f-4b38-8418-f5bbfd283894",
   "metadata": {},
   "outputs": [
    {
     "data": {
      "text/plain": [
       "12"
      ]
     },
     "execution_count": 4,
     "metadata": {},
     "output_type": "execute_result"
    }
   ],
   "source": [
    "string=\"I want to become a data scientist\"\n",
    "vowels=0\n",
    "for i in string:\n",
    "    if(i=='a' or i=='e' or i=='i' or i=='o' or i=='u' or i=='A' or i=='E' or i=='I' or i=='O' or i=='U'):\n",
    "        vowels=vowels+1\n",
    "vowels"
   ]
  },
  {
   "cell_type": "code",
   "execution_count": null,
   "id": "bbd818a0-7bb2-4932-91de-1975a387b442",
   "metadata": {},
   "outputs": [],
   "source": []
  }
 ],
 "metadata": {
  "kernelspec": {
   "display_name": "Python 3 (ipykernel)",
   "language": "python",
   "name": "python3"
  },
  "language_info": {
   "codemirror_mode": {
    "name": "ipython",
    "version": 3
   },
   "file_extension": ".py",
   "mimetype": "text/x-python",
   "name": "python",
   "nbconvert_exporter": "python",
   "pygments_lexer": "ipython3",
   "version": "3.10.8"
  }
 },
 "nbformat": 4,
 "nbformat_minor": 5
}
